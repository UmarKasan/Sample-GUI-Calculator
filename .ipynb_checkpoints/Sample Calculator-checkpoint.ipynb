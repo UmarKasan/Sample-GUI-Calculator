{
 "cells": [
  {
   "cell_type": "markdown",
   "metadata": {},
   "source": [
    "# Calculator Template"
   ]
  },
  {
   "cell_type": "markdown",
   "metadata": {},
   "source": [
    "Import package"
   ]
  },
  {
   "cell_type": "code",
   "execution_count": 1,
   "metadata": {},
   "outputs": [],
   "source": [
    "from tkinter import*"
   ]
  },
  {
   "cell_type": "code",
   "execution_count": 2,
   "metadata": {},
   "outputs": [],
   "source": [
    "tk = Tk ()\n",
    "tk.title('CALCULATOR')\n",
    "operator = ''\n",
    "text_input = StringVar()"
   ]
  },
  {
   "cell_type": "markdown",
   "metadata": {},
   "source": [
    "Main body"
   ]
  },
  {
   "cell_type": "code",
   "execution_count": 3,
   "metadata": {},
   "outputs": [],
   "source": [
    "txtDisplay = Entry(tk, font=('arial',20,'bold'), \n",
    "                   textvariable = text_input, bd = 30, \n",
    "                   insertwidth = 4, bg = 'powder blue', \n",
    "                   justify = 'center').grid(columnspan=4)"
   ]
  },
  {
   "cell_type": "markdown",
   "metadata": {},
   "source": [
    "Create a function:\n",
    "\n",
    "to show the number typed"
   ]
  },
  {
   "cell_type": "code",
   "execution_count": 4,
   "metadata": {},
   "outputs": [],
   "source": [
    "def btnClick(num):\n",
    "    global operator\n",
    "    operator\n",
    "    operator = operator + str(num)\n",
    "    text_input.set(operator)"
   ]
  },
  {
   "cell_type": "markdown",
   "metadata": {},
   "source": [
    "to clear the screen of numbers"
   ]
  },
  {
   "cell_type": "code",
   "execution_count": 5,
   "metadata": {},
   "outputs": [],
   "source": [
    "def btnClearDisplay():\n",
    "    global operator\n",
    "    operator = ''\n",
    "    text_input.set('')"
   ]
  },
  {
   "cell_type": "markdown",
   "metadata": {},
   "source": [
    "to show the answer"
   ]
  },
  {
   "cell_type": "code",
   "execution_count": 6,
   "metadata": {},
   "outputs": [],
   "source": [
    "def btnEqualsInput():\n",
    "    global operator\n",
    "    sums = str(eval(operator))\n",
    "    text_input.set(sums)\n",
    "    operator = ''"
   ]
  },
  {
   "cell_type": "markdown",
   "metadata": {},
   "source": [
    "Buttons"
   ]
  },
  {
   "cell_type": "code",
   "execution_count": 7,
   "metadata": {},
   "outputs": [],
   "source": [
    "btn1 = Button(tk, padx = 16, bd = 8, fg = 'black',\n",
    "              font = ('arial',20,'bold'),\n",
    "              text = '1', command = lambda: btnClick(1),\n",
    "             bg = 'powder blue').grid(row = 1, column = 0)\n",
    "btn2 = Button(tk, padx = 16, bd = 8, fg = 'black',\n",
    "              font = ('arial',20,'bold'),\n",
    "              text = '2', command = lambda: btnClick(2),\n",
    "             bg = 'powder blue').grid(row = 1, column = 1)\n",
    "btn3 = Button(tk, padx = 16, bd = 8, fg = 'black',\n",
    "              font = ('arial',20,'bold'),\n",
    "              text = '3', command = lambda: btnClick(3),\n",
    "             bg = 'powder blue').grid(row = 1, column = 2)\n",
    "btn_add = Button(tk, padx = 16, bd = 8, fg = 'black',\n",
    "              font = ('arial',20,'bold'),\n",
    "              text = '+', command = lambda: btnClick('+'),\n",
    "             bg = 'powder blue').grid(row = 1, column = 3)"
   ]
  },
  {
   "cell_type": "code",
   "execution_count": 8,
   "metadata": {},
   "outputs": [],
   "source": [
    "btn4 = Button(tk, padx = 16, bd = 8, fg = 'black',\n",
    "              font = ('arial',20,'bold'),\n",
    "              text = '4', command = lambda: btnClick(4),\n",
    "             bg = 'powder blue').grid(row = 2, column = 0)\n",
    "btn5 = Button(tk, padx = 16, bd = 8, fg = 'black',\n",
    "              font = ('arial',20,'bold'),\n",
    "              text = '5', command = lambda: btnClick(5),\n",
    "             bg = 'powder blue').grid(row = 2, column = 1)\n",
    "btn6 = Button(tk, padx = 16, bd = 8, fg = 'black',\n",
    "              font = ('arial',20,'bold'),\n",
    "              text = '6', command = lambda: btnClick(6),\n",
    "             bg = 'powder blue').grid(row = 2, column = 2)\n",
    "btn_minus = Button(tk, padx = 16, bd = 8, fg = 'black',\n",
    "              font = ('arial',20,'bold'),\n",
    "              text = '-', command = lambda: btnClick('-'),\n",
    "             bg = 'powder blue').grid(row = 2, column = 3)"
   ]
  },
  {
   "cell_type": "code",
   "execution_count": 9,
   "metadata": {},
   "outputs": [],
   "source": [
    "btn7 = Button(tk, padx = 16, bd = 8, fg = 'black',\n",
    "              font = ('arial',20,'bold'),\n",
    "              text = '7', command = lambda: btnClick(7),\n",
    "             bg = 'powder blue').grid(row = 3, column = 0)\n",
    "btn8 = Button(tk, padx = 16, bd = 8, fg = 'black',\n",
    "              font = ('arial',20,'bold'),\n",
    "              text = '8', command = lambda: btnClick(8),\n",
    "             bg = 'powder blue').grid(row = 3, column = 1)\n",
    "btn9 = Button(tk, padx = 16, bd = 8, fg = 'black',\n",
    "              font = ('arial',20,'bold'),\n",
    "              text = '9', command = lambda: btnClick(9),\n",
    "             bg = 'powder blue').grid(row = 3, column = 2)\n",
    "btn_times = Button(tk, padx = 16, bd = 8, fg = 'black',\n",
    "              font = ('arial',20,'bold'),\n",
    "              text = '*', command = lambda: btnClick('*'),\n",
    "             bg = 'powder blue').grid(row = 3, column = 3)"
   ]
  },
  {
   "cell_type": "code",
   "execution_count": 10,
   "metadata": {},
   "outputs": [],
   "source": [
    "btn0 = Button(tk, padx = 16, bd = 8, fg = 'black',\n",
    "              font = ('arial',20,'bold'),\n",
    "              text = '0', command = lambda: btnClick(7),\n",
    "             bg = 'powder blue').grid(row = 4, column = 0)\n",
    "btn_Clear = Button(tk, padx = 16, bd = 8, fg = 'black',\n",
    "              font = ('arial',20,'bold'),\n",
    "              text = 'C', command = lambda: btnClearDisplay(),\n",
    "             bg = 'powder blue').grid(row = 4, column = 1)\n",
    "btn_Equal = Button(tk, padx = 16, bd = 8, fg = 'black',\n",
    "              font = ('arial',20,'bold'),\n",
    "              text = '=', command = lambda: btnEqualsInput(),\n",
    "             bg = 'powder blue').grid(row = 4, column = 2)\n",
    "btn_Div = Button(tk, padx = 16, bd = 8, fg = 'black',\n",
    "              font = ('arial',20,'bold'),\n",
    "              text = '/', command = lambda: btnClick('/'),\n",
    "             bg = 'powder blue').grid(row = 4, column = 3)"
   ]
  },
  {
   "cell_type": "markdown",
   "metadata": {},
   "source": [
    "Changing the Tkinter icon"
   ]
  },
  {
   "cell_type": "code",
   "execution_count": 11,
   "metadata": {},
   "outputs": [
    {
     "data": {
      "text/plain": [
       "''"
      ]
     },
     "execution_count": 11,
     "metadata": {},
     "output_type": "execute_result"
    }
   ],
   "source": [
    "tk.wm_iconbitmap('calculator.ico')"
   ]
  },
  {
   "cell_type": "markdown",
   "metadata": {},
   "source": [
    "execute"
   ]
  },
  {
   "cell_type": "code",
   "execution_count": 12,
   "metadata": {},
   "outputs": [],
   "source": [
    "tk.mainloop()"
   ]
  }
 ],
 "metadata": {
  "kernelspec": {
   "display_name": "Python 3",
   "language": "python",
   "name": "python3"
  },
  "language_info": {
   "codemirror_mode": {
    "name": "ipython",
    "version": 3
   },
   "file_extension": ".py",
   "mimetype": "text/x-python",
   "name": "python",
   "nbconvert_exporter": "python",
   "pygments_lexer": "ipython3",
   "version": "3.7.4"
  }
 },
 "nbformat": 4,
 "nbformat_minor": 2
}
