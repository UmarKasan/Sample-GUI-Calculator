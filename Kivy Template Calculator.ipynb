{
 "cells": [
  {
   "cell_type": "markdown",
   "metadata": {},
   "source": [
    "# Sample Calculator"
   ]
  },
  {
   "cell_type": "markdown",
   "metadata": {},
   "source": [
    "Import Library"
   ]
  },
  {
   "cell_type": "code",
   "execution_count": 1,
   "metadata": {},
   "outputs": [],
   "source": [
    "# pip install kivy"
   ]
  },
  {
   "cell_type": "code",
   "execution_count": 2,
   "metadata": {},
   "outputs": [
    {
     "name": "stderr",
     "output_type": "stream",
     "text": [
      "[INFO   ] [Logger      ] Record log in C:\\Users\\Umar\\.kivy\\logs\\kivy_20-03-07_1.txt\n",
      "[INFO   ] [Kivy        ] v1.11.1\n",
      "[INFO   ] [Kivy        ] Installed at \"C:\\Users\\Umar\\Anaconda3\\lib\\site-packages\\kivy\\__init__.py\"\n",
      "[INFO   ] [Python      ] v3.7.4 (default, Aug  9 2019, 18:34:13) [MSC v.1915 64 bit (AMD64)]\n",
      "[INFO   ] [Python      ] Interpreter at \"C:\\Users\\Umar\\Anaconda3\\python.exe\"\n",
      "[INFO   ] [Factory     ] 184 symbols loaded\n",
      "[INFO   ] [Image       ] Providers: img_tex, img_dds, img_pil, img_gif (img_sdl2, img_ffpyplayer ignored)\n",
      "[CRITICAL] [Window      ] Unable to find any valuable Window provider. Please enable debug logging (e.g. add -d if running from the command line, or change the log level in the config) and re-run your app to identify potential causes\n",
      "sdl2 - ImportError: DLL load failed: The specified module could not be found.\n",
      "  File \"C:\\Users\\Umar\\Anaconda3\\lib\\site-packages\\kivy\\core\\__init__.py\", line 63, in core_select_lib\n",
      "    fromlist=[modulename], level=0)\n",
      "  File \"C:\\Users\\Umar\\Anaconda3\\lib\\site-packages\\kivy\\core\\window\\window_sdl2.py\", line 27, in <module>\n",
      "    from kivy.core.window._window_sdl2 import _WindowSDL2Storage\n",
      "\n",
      "[CRITICAL] [App         ] Unable to get a Window, abort.\n",
      " C:\\Users\\Umar\\Anaconda3\\lib\\site-packages\\IPython\\core\\interactiveshell.py:3334: UserWarning: To exit: use 'exit', 'quit', or Ctrl-D.\n",
      "   warn(\"To exit: use 'exit', 'quit', or Ctrl-D.\", stacklevel=1)\n"
     ]
    }
   ],
   "source": [
    "import kivy   \n",
    "       \n",
    "# base Class of your App inherits from the App class.     \n",
    "# app:always refers to the instance of your application    \n",
    "from kivy.app import App  \n",
    "     \n",
    "# this restrict the kivy version i.e   \n",
    "# below this kivy version you cannot   \n",
    "# use the app or software   \n",
    "kivy.require('1.9.0')  \n",
    "  \n",
    "# for making multiple bttons to arranging \n",
    "# them we are using this \n",
    "from kivy.uix.gridlayout import GridLayout \n",
    "  \n",
    "# for the size of window \n",
    "from kivy.config import Config \n",
    "  \n",
    "# Setting size to resizable \n",
    "Config.set('graphics', 'resizable', 1) \n",
    "## Config.set('graphics', 'width', '400') \n",
    "## Config.set('graphics', 'height', '400') "
   ]
  },
  {
   "cell_type": "markdown",
   "metadata": {},
   "source": [
    "Creating Layout class "
   ]
  },
  {
   "cell_type": "code",
   "execution_count": 3,
   "metadata": {},
   "outputs": [],
   "source": [
    "class CalcGridLayout(GridLayout): \n",
    "   \n",
    "    # Function called when equals is pressed \n",
    "    def calculate(self, calculation): \n",
    "        if calculation: \n",
    "            try: \n",
    "                # Solve formula and display it in entry \n",
    "                # which is pointed at by display \n",
    "                self.display.text = str(eval(calculation)) \n",
    "            except Exception: \n",
    "                self.display.text = \"Error\""
   ]
  },
  {
   "cell_type": "markdown",
   "metadata": {},
   "source": [
    " Creating App class "
   ]
  },
  {
   "cell_type": "code",
   "execution_count": 4,
   "metadata": {},
   "outputs": [],
   "source": [
    "class CalculatorApp(App): \n",
    "   \n",
    "    def build(self): \n",
    "        return CalcGridLayout() "
   ]
  },
  {
   "cell_type": "markdown",
   "metadata": {},
   "source": [
    "creating object and running it  "
   ]
  },
  {
   "cell_type": "code",
   "execution_count": 5,
   "metadata": {},
   "outputs": [
    {
     "ename": "SystemExit",
     "evalue": "1",
     "output_type": "error",
     "traceback": [
      "An exception has occurred, use %tb to see the full traceback.\n",
      "\u001b[1;31mSystemExit\u001b[0m\u001b[1;31m:\u001b[0m 1\n"
     ]
    }
   ],
   "source": [
    "calcApp = CalculatorApp() \n",
    "calcApp.run() "
   ]
  }
 ],
 "metadata": {
  "kernelspec": {
   "display_name": "Python 3",
   "language": "python",
   "name": "python3"
  },
  "language_info": {
   "codemirror_mode": {
    "name": "ipython",
    "version": 3
   },
   "file_extension": ".py",
   "mimetype": "text/x-python",
   "name": "python",
   "nbconvert_exporter": "python",
   "pygments_lexer": "ipython3",
   "version": "3.7.4"
  }
 },
 "nbformat": 4,
 "nbformat_minor": 2
}
